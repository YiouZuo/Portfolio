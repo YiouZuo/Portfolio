{
 "cells": [
  {
   "cell_type": "markdown",
   "metadata": {},
   "source": [
    "# Extract NYC Sample \n",
    "YOU'LL NOT BE ABLE TO RUN THIS CODE AND REPRODUCE THE RESULTS.\n",
    "This file serves the only purpose of documenting how I extract NYC sample data. \n",
    "\n",
    "Input files include:\n",
    "    - NYC_sample.csv: a list of sample AreaIds, selected and generated using QGIS\n",
    "    - ny_hexagon_geometries.csv: full hexagons set. Visit https://github.com/teralytics/geohex for hexagon generation.\n",
    "    - nyc_flow: the footfall data. This data is not provided.\n",
    "Output files include:\n",
    "    - NYC_sample_geometries.csv: \n",
    "        - AreaId: Unique identifier of a hexagon.\n",
    "        - Geometry: Well-known text (WKT) representation of the hexagons.\n",
    "    - NYC_sample_flow.csv:\n",
    "        - AreaId: Hexagon ID as in NYC_sample_geometries.csv.\n",
    "        - NewCount: Number of persons which entered the hexagon during the time interval [StartTime, StartTime + 1 hour].\n",
    "        - StartTime: \"yyyy-mm-dd HH:MM:SS\" representation in local time (daylight saving time, UTC−04:00).\n"
   ]
  },
  {
   "cell_type": "code",
   "execution_count": 1,
   "metadata": {
    "collapsed": true
   },
   "outputs": [],
   "source": [
    "import os\n",
    "import csv\n",
    "import pandas as pd\n",
    "import datetime as dt\n",
    "import numpy as np"
   ]
  },
  {
   "cell_type": "markdown",
   "metadata": {},
   "source": [
    "# Create the sample geometry file"
   ]
  },
  {
   "cell_type": "code",
   "execution_count": 2,
   "metadata": {
    "collapsed": false
   },
   "outputs": [],
   "source": [
    "# read in NYC_sample.csv, where only the sample AreaId is included - selected and generated using QGIS\n",
    "sample_AreaId = pd.read_csv('NYC_sample.csv')\n",
    "sample_Ids = set(sample_AreaId['AreaId'])"
   ]
  },
  {
   "cell_type": "code",
   "execution_count": 3,
   "metadata": {
    "collapsed": false
   },
   "outputs": [],
   "source": [
    "full_geom = pd.read_csv('ny_hexagon_geometries.csv')"
   ]
  },
  {
   "cell_type": "code",
   "execution_count": 4,
   "metadata": {
    "collapsed": false
   },
   "outputs": [],
   "source": [
    "sample_geom = full_geom[full_geom.AreaId.isin(sample_Ids)]"
   ]
  },
  {
   "cell_type": "code",
   "execution_count": 5,
   "metadata": {
    "collapsed": true
   },
   "outputs": [],
   "source": [
    "sample_geom.to_csv('NYC_sample_geometries.csv')"
   ]
  },
  {
   "cell_type": "code",
   "execution_count": 6,
   "metadata": {
    "collapsed": false
   },
   "outputs": [
    {
     "data": {
      "text/html": [
       "<div>\n",
       "<table border=\"1\" class=\"dataframe\">\n",
       "  <thead>\n",
       "    <tr style=\"text-align: right;\">\n",
       "      <th></th>\n",
       "      <th>AreaId</th>\n",
       "      <th>Geometry</th>\n",
       "    </tr>\n",
       "  </thead>\n",
       "  <tbody>\n",
       "    <tr>\n",
       "      <th>17387</th>\n",
       "      <td>229777</td>\n",
       "      <td>MULTIPOLYGON(((-74.017713561525 40.69983361954...</td>\n",
       "    </tr>\n",
       "    <tr>\n",
       "      <th>17388</th>\n",
       "      <td>229778</td>\n",
       "      <td>MULTIPOLYGON(((-74.017713561525 40.70210146199...</td>\n",
       "    </tr>\n",
       "    <tr>\n",
       "      <th>17389</th>\n",
       "      <td>229779</td>\n",
       "      <td>MULTIPOLYGON(((-74.017713561525 40.70436922723...</td>\n",
       "    </tr>\n",
       "    <tr>\n",
       "      <th>17390</th>\n",
       "      <td>229780</td>\n",
       "      <td>MULTIPOLYGON(((-74.017713561525 40.70663691526...</td>\n",
       "    </tr>\n",
       "    <tr>\n",
       "      <th>17391</th>\n",
       "      <td>229781</td>\n",
       "      <td>MULTIPOLYGON(((-74.017713561525 40.70890452607...</td>\n",
       "    </tr>\n",
       "  </tbody>\n",
       "</table>\n",
       "</div>"
      ],
      "text/plain": [
       "       AreaId                                           Geometry\n",
       "17387  229777  MULTIPOLYGON(((-74.017713561525 40.69983361954...\n",
       "17388  229778  MULTIPOLYGON(((-74.017713561525 40.70210146199...\n",
       "17389  229779  MULTIPOLYGON(((-74.017713561525 40.70436922723...\n",
       "17390  229780  MULTIPOLYGON(((-74.017713561525 40.70663691526...\n",
       "17391  229781  MULTIPOLYGON(((-74.017713561525 40.70890452607..."
      ]
     },
     "execution_count": 6,
     "metadata": {},
     "output_type": "execute_result"
    }
   ],
   "source": [
    "sample_geom.head()"
   ]
  },
  {
   "cell_type": "markdown",
   "metadata": {},
   "source": [
    "# Create the sample flow file"
   ]
  },
  {
   "cell_type": "code",
   "execution_count": 7,
   "metadata": {
    "collapsed": false
   },
   "outputs": [],
   "source": [
    "# read in the full flow file, including AreaId, counts and starttime\n",
    "full_flow = pd.read_csv('ny_flow.csv')"
   ]
  },
  {
   "cell_type": "code",
   "execution_count": 8,
   "metadata": {
    "collapsed": false
   },
   "outputs": [],
   "source": [
    "sample_flow = full_flow[full_flow.AreaId.isin(sample_Ids)]"
   ]
  },
  {
   "cell_type": "code",
   "execution_count": 9,
   "metadata": {
    "collapsed": true
   },
   "outputs": [],
   "source": [
    "# Drop original flow data\n",
    "sample_flow = sample_flow.drop('Count', 1)"
   ]
  },
  {
   "cell_type": "code",
   "execution_count": 10,
   "metadata": {
    "collapsed": false
   },
   "outputs": [
    {
     "data": {
      "text/html": [
       "<div>\n",
       "<table border=\"1\" class=\"dataframe\">\n",
       "  <thead>\n",
       "    <tr style=\"text-align: right;\">\n",
       "      <th></th>\n",
       "      <th>AreaId</th>\n",
       "      <th>StartTime</th>\n",
       "    </tr>\n",
       "  </thead>\n",
       "  <tbody>\n",
       "    <tr>\n",
       "      <th>3882927</th>\n",
       "      <td>229777</td>\n",
       "      <td>2015-09-01 00:00:00</td>\n",
       "    </tr>\n",
       "    <tr>\n",
       "      <th>3882928</th>\n",
       "      <td>229777</td>\n",
       "      <td>2015-09-01 01:00:00</td>\n",
       "    </tr>\n",
       "    <tr>\n",
       "      <th>3882929</th>\n",
       "      <td>229777</td>\n",
       "      <td>2015-09-01 02:00:00</td>\n",
       "    </tr>\n",
       "    <tr>\n",
       "      <th>3882930</th>\n",
       "      <td>229777</td>\n",
       "      <td>2015-09-01 03:00:00</td>\n",
       "    </tr>\n",
       "    <tr>\n",
       "      <th>3882931</th>\n",
       "      <td>229777</td>\n",
       "      <td>2015-09-01 04:00:00</td>\n",
       "    </tr>\n",
       "  </tbody>\n",
       "</table>\n",
       "</div>"
      ],
      "text/plain": [
       "         AreaId            StartTime\n",
       "3882927  229777  2015-09-01 00:00:00\n",
       "3882928  229777  2015-09-01 01:00:00\n",
       "3882929  229777  2015-09-01 02:00:00\n",
       "3882930  229777  2015-09-01 03:00:00\n",
       "3882931  229777  2015-09-01 04:00:00"
      ]
     },
     "execution_count": 10,
     "metadata": {},
     "output_type": "execute_result"
    }
   ],
   "source": [
    "sample_flow.head()"
   ]
  },
  {
   "cell_type": "code",
   "execution_count": 11,
   "metadata": {
    "collapsed": false
   },
   "outputs": [
    {
     "data": {
      "text/plain": [
       "AreaId        int64\n",
       "StartTime    object\n",
       "dtype: object"
      ]
     },
     "execution_count": 11,
     "metadata": {},
     "output_type": "execute_result"
    }
   ],
   "source": [
    "sample_flow.dtypes"
   ]
  },
  {
   "cell_type": "code",
   "execution_count": 12,
   "metadata": {
    "collapsed": false
   },
   "outputs": [],
   "source": [
    "# change StartTime type to be datetime\n",
    "dt_time = pd.to_datetime(sample_flow.loc[:,'StartTime'])\n",
    "sample_flow.loc[:,'StartTime'] = dt_time"
   ]
  },
  {
   "cell_type": "code",
   "execution_count": 13,
   "metadata": {
    "collapsed": true
   },
   "outputs": [],
   "source": [
    "end_time = dt.datetime(2015,9,8,0,0)"
   ]
  },
  {
   "cell_type": "code",
   "execution_count": 14,
   "metadata": {
    "collapsed": false
   },
   "outputs": [],
   "source": [
    "sample_flow = sample_flow[sample_flow.StartTime < end_time]"
   ]
  },
  {
   "cell_type": "code",
   "execution_count": 15,
   "metadata": {
    "collapsed": false
   },
   "outputs": [],
   "source": [
    "# Randomize the count\n",
    "sample_flow['NewCount'] = np.random.randint(0, 500, size=len(sample_flow))"
   ]
  },
  {
   "cell_type": "code",
   "execution_count": 16,
   "metadata": {
    "collapsed": true
   },
   "outputs": [],
   "source": [
    "# pick up 5 AreaIds randomly \n",
    "high_flow_ids = set(np.random.choice(sample_flow['AreaId'],size=5))"
   ]
  },
  {
   "cell_type": "code",
   "execution_count": 17,
   "metadata": {
    "collapsed": false
   },
   "outputs": [
    {
     "name": "stdout",
     "output_type": "stream",
     "text": [
      "high flow ids are:  set([232200, 229784, 236330, 231460, 233511])\n"
     ]
    }
   ],
   "source": [
    "print \"high flow ids are: \", high_flow_ids"
   ]
  },
  {
   "cell_type": "code",
   "execution_count": 18,
   "metadata": {
    "collapsed": false
   },
   "outputs": [],
   "source": [
    "# Assign random numbers from 1000 to 5000 to these rows\n",
    "for id in high_flow_ids:\n",
    "    sample_flow.ix[sample_flow['AreaId']==id, 'NewCount'] = np.random.randint(1000, 5000, \n",
    "                                                                             size=len(sample_flow[sample_flow['AreaId']==id]))"
   ]
  },
  {
   "cell_type": "code",
   "execution_count": 19,
   "metadata": {
    "collapsed": false
   },
   "outputs": [
    {
     "data": {
      "text/html": [
       "<div>\n",
       "<table border=\"1\" class=\"dataframe\">\n",
       "  <thead>\n",
       "    <tr style=\"text-align: right;\">\n",
       "      <th></th>\n",
       "      <th>AreaId</th>\n",
       "      <th>StartTime</th>\n",
       "      <th>NewCount</th>\n",
       "    </tr>\n",
       "  </thead>\n",
       "  <tbody>\n",
       "    <tr>\n",
       "      <th>3882927</th>\n",
       "      <td>229777</td>\n",
       "      <td>2015-09-01 00:00:00</td>\n",
       "      <td>304</td>\n",
       "    </tr>\n",
       "    <tr>\n",
       "      <th>3882928</th>\n",
       "      <td>229777</td>\n",
       "      <td>2015-09-01 01:00:00</td>\n",
       "      <td>100</td>\n",
       "    </tr>\n",
       "    <tr>\n",
       "      <th>3882929</th>\n",
       "      <td>229777</td>\n",
       "      <td>2015-09-01 02:00:00</td>\n",
       "      <td>52</td>\n",
       "    </tr>\n",
       "    <tr>\n",
       "      <th>3882930</th>\n",
       "      <td>229777</td>\n",
       "      <td>2015-09-01 03:00:00</td>\n",
       "      <td>304</td>\n",
       "    </tr>\n",
       "    <tr>\n",
       "      <th>3882931</th>\n",
       "      <td>229777</td>\n",
       "      <td>2015-09-01 04:00:00</td>\n",
       "      <td>248</td>\n",
       "    </tr>\n",
       "  </tbody>\n",
       "</table>\n",
       "</div>"
      ],
      "text/plain": [
       "         AreaId           StartTime  NewCount\n",
       "3882927  229777 2015-09-01 00:00:00       304\n",
       "3882928  229777 2015-09-01 01:00:00       100\n",
       "3882929  229777 2015-09-01 02:00:00        52\n",
       "3882930  229777 2015-09-01 03:00:00       304\n",
       "3882931  229777 2015-09-01 04:00:00       248"
      ]
     },
     "execution_count": 19,
     "metadata": {},
     "output_type": "execute_result"
    }
   ],
   "source": [
    "sample_flow.head()"
   ]
  },
  {
   "cell_type": "code",
   "execution_count": 22,
   "metadata": {
    "collapsed": false
   },
   "outputs": [
    {
     "data": {
      "text/html": [
       "<div>\n",
       "<table border=\"1\" class=\"dataframe\">\n",
       "  <thead>\n",
       "    <tr style=\"text-align: right;\">\n",
       "      <th></th>\n",
       "      <th>AreaId</th>\n",
       "      <th>StartTime</th>\n",
       "      <th>NewCount</th>\n",
       "    </tr>\n",
       "  </thead>\n",
       "  <tbody>\n",
       "    <tr>\n",
       "      <th>4459084</th>\n",
       "      <td>232200</td>\n",
       "      <td>2015-09-01 00:00:00</td>\n",
       "      <td>3516</td>\n",
       "    </tr>\n",
       "    <tr>\n",
       "      <th>4459085</th>\n",
       "      <td>232200</td>\n",
       "      <td>2015-09-01 01:00:00</td>\n",
       "      <td>3130</td>\n",
       "    </tr>\n",
       "    <tr>\n",
       "      <th>4459086</th>\n",
       "      <td>232200</td>\n",
       "      <td>2015-09-01 02:00:00</td>\n",
       "      <td>3058</td>\n",
       "    </tr>\n",
       "    <tr>\n",
       "      <th>4459087</th>\n",
       "      <td>232200</td>\n",
       "      <td>2015-09-01 03:00:00</td>\n",
       "      <td>4884</td>\n",
       "    </tr>\n",
       "    <tr>\n",
       "      <th>4459088</th>\n",
       "      <td>232200</td>\n",
       "      <td>2015-09-01 04:00:00</td>\n",
       "      <td>2268</td>\n",
       "    </tr>\n",
       "  </tbody>\n",
       "</table>\n",
       "</div>"
      ],
      "text/plain": [
       "         AreaId           StartTime  NewCount\n",
       "4459084  232200 2015-09-01 00:00:00      3516\n",
       "4459085  232200 2015-09-01 01:00:00      3130\n",
       "4459086  232200 2015-09-01 02:00:00      3058\n",
       "4459087  232200 2015-09-01 03:00:00      4884\n",
       "4459088  232200 2015-09-01 04:00:00      2268"
      ]
     },
     "execution_count": 22,
     "metadata": {},
     "output_type": "execute_result"
    }
   ],
   "source": [
    "sample_flow[sample_flow.AreaId==232200].head()"
   ]
  },
  {
   "cell_type": "code",
   "execution_count": 24,
   "metadata": {
    "collapsed": false
   },
   "outputs": [],
   "source": [
    "sample_flow.to_csv('NYC_sample_flow.csv', index=False)"
   ]
  }
 ],
 "metadata": {
  "kernelspec": {
   "display_name": "Python 2",
   "language": "python",
   "name": "python2"
  },
  "language_info": {
   "codemirror_mode": {
    "name": "ipython",
    "version": 2
   },
   "file_extension": ".py",
   "mimetype": "text/x-python",
   "name": "python",
   "nbconvert_exporter": "python",
   "pygments_lexer": "ipython2",
   "version": "2.7.11"
  }
 },
 "nbformat": 4,
 "nbformat_minor": 0
}
