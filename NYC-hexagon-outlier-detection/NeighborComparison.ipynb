{
 "cells": [
  {
   "cell_type": "code",
   "execution_count": 1,
   "metadata": {
    "collapsed": false
   },
   "outputs": [],
   "source": [
    "import os\n",
    "import csv\n",
    "import shapefile\n",
    "import pysal\n",
    "import pandas as pd"
   ]
  },
  {
   "cell_type": "code",
   "execution_count": 2,
   "metadata": {
    "collapsed": false
   },
   "outputs": [],
   "source": [
    "%matplotlib inline\n",
    "import matplotlib.pyplot as plt"
   ]
  },
  {
   "cell_type": "markdown",
   "metadata": {},
   "source": [
    "## Set and check the data path"
   ]
  },
  {
   "cell_type": "code",
   "execution_count": 3,
   "metadata": {
    "collapsed": false
   },
   "outputs": [
    {
     "name": "stdout",
     "output_type": "stream",
     "text": [
      "('Input file:', \"C:\\\\Users\\\\Scarlett's Laptop\\\\Documents\\\\Git\\\\Project\\\\NYC-hexagon-outlier-detection\\\\Data\\\\NYC_sample_geometries.csv\", \"C:\\\\Users\\\\Scarlett's Laptop\\\\Documents\\\\Git\\\\Project\\\\NYC-hexagon-outlier-detection\\\\Data\\\\NYC_sample_flow.csv\")\n"
     ]
    }
   ],
   "source": [
    "data_dir = os.path.abspath('Data')\n",
    "geom_file = os.path.join(data_dir, 'NYC_sample_geometries.csv')\n",
    "flow_file = os.path.join(data_dir, 'NYC_sample_flow.csv')\n",
    "\n",
    "if os.path.exists(geom_file):\n",
    "    print('Input file:', geom_file, flow_file)\n",
    "else:\n",
    "    print('Data directory is:', data_dir)\n",
    "    print('Please fix the path!')"
   ]
  },
  {
   "cell_type": "markdown",
   "metadata": {},
   "source": [
    "# 1. Create the shapefile\n",
    "reference: http://geospatialpython.com/2015/08/csv-to-shapefile.html"
   ]
  },
  {
   "cell_type": "code",
   "execution_count": 4,
   "metadata": {
    "collapsed": true
   },
   "outputs": [],
   "source": [
    "# Create a polygon shapefile writer\n",
    "wrt = shapefile.Writer(shapefile.POLYGON)"
   ]
  },
  {
   "cell_type": "code",
   "execution_count": 5,
   "metadata": {
    "collapsed": false
   },
   "outputs": [],
   "source": [
    "# Add fields\n",
    "wrt.field('AreaId', 'N', 6, 0)"
   ]
  },
  {
   "cell_type": "code",
   "execution_count": 6,
   "metadata": {
    "collapsed": false
   },
   "outputs": [],
   "source": [
    "# Open the csv file and set up a reader\n",
    "with open(geom_file) as p:\n",
    "    reader = csv.DictReader(p)\n",
    "    for row in reader:\n",
    "        # Add records for each polygon\n",
    "        wrt.record(row['AreaId'])\n",
    "        # Parse the coordinate string\n",
    "        wkt = row['Geometry'][15:-3]\n",
    "        # Break the coordinate string into x,y coordinates\n",
    "        coords = wkt.split(\",\")\n",
    "        # Set up a list to contain the coordinates for each node\n",
    "        part = []\n",
    "        # Convert the x,y values to floats\n",
    "        for c in coords:\n",
    "            x,y = c.split(' ')\n",
    "            part.append([float(x), float(y)])\n",
    "        # Create a polygon record with the list of coordinates\n",
    "        wrt.poly(parts=[part])"
   ]
  },
  {
   "cell_type": "code",
   "execution_count": 7,
   "metadata": {
    "collapsed": false
   },
   "outputs": [],
   "source": [
    "# Save the shapefile\n",
    "wrt.save('NYC_sample_hexagons.shp')"
   ]
  },
  {
   "cell_type": "markdown",
   "metadata": {},
   "source": [
    "# 2. Create the neighbor list\n",
    "For each AreaId, detect its neighbors, i.e. the polygons that share a common edge. "
   ]
  },
  {
   "cell_type": "code",
   "execution_count": 8,
   "metadata": {
    "collapsed": false
   },
   "outputs": [],
   "source": [
    "nb = pysal.rook_from_shapefile('NYC_sample_hexagons.shp', 'AreaId')"
   ]
  },
  {
   "cell_type": "code",
   "execution_count": 9,
   "metadata": {
    "collapsed": false
   },
   "outputs": [
    {
     "data": {
      "text/plain": [
       "dict"
      ]
     },
     "execution_count": 9,
     "metadata": {},
     "output_type": "execute_result"
    }
   ],
   "source": [
    "type(nb.neighbors)"
   ]
  },
  {
   "cell_type": "code",
   "execution_count": 10,
   "metadata": {
    "collapsed": false
   },
   "outputs": [],
   "source": [
    "hist = pd.DataFrame(nb.histogram, columns=['bin', 'cnt'])"
   ]
  },
  {
   "cell_type": "code",
   "execution_count": 11,
   "metadata": {
    "collapsed": false
   },
   "outputs": [
    {
     "data": {
      "text/plain": [
       "<Container object of 5 artists>"
      ]
     },
     "execution_count": 11,
     "metadata": {},
     "output_type": "execute_result"
    },
    {
     "data": {
      "image/png": "[encoded data removed]",
      "text/plain": [
       "<matplotlib.figure.Figure at 0x1b188780>"
      ]
     },
     "metadata": {},
     "output_type": "display_data"
    }
   ],
   "source": [
    "plt.bar(hist.bin,hist.cnt)"
   ]
  },
  {
   "cell_type": "markdown",
   "metadata": {},
   "source": [
    "# 3. Final output "
   ]
  },
  {
   "cell_type": "code",
   "execution_count": 12,
   "metadata": {
    "collapsed": false
   },
   "outputs": [],
   "source": [
    "# Read in nyc_flow.csv and pivot the table\n",
    "flow = pd.read_csv(flow_file)"
   ]
  },
  {
   "cell_type": "code",
   "execution_count": 13,
   "metadata": {
    "collapsed": false
   },
   "outputs": [],
   "source": [
    "areaIds = list(set(flow.AreaId)) # iterate through a list is faster than through a set"
   ]
  },
  {
   "cell_type": "code",
   "execution_count": 14,
   "metadata": {
    "collapsed": false
   },
   "outputs": [],
   "source": [
    "flow = flow.set_index(['AreaId', 'StartTime'])"
   ]
  },
  {
   "cell_type": "code",
   "execution_count": 15,
   "metadata": {
    "collapsed": false
   },
   "outputs": [
    {
     "data": {
      "text/html": [
       "<div>\n",
       "<table border=\"1\" class=\"dataframe\">\n",
       "  <thead>\n",
       "    <tr style=\"text-align: right;\">\n",
       "      <th></th>\n",
       "      <th></th>\n",
       "      <th>NewCount</th>\n",
       "    </tr>\n",
       "    <tr>\n",
       "      <th>AreaId</th>\n",
       "      <th>StartTime</th>\n",
       "      <th></th>\n",
       "    </tr>\n",
       "  </thead>\n",
       "  <tbody>\n",
       "    <tr>\n",
       "      <th rowspan=\"5\" valign=\"top\">229777</th>\n",
       "      <th>2015-09-01 00:00:00</th>\n",
       "      <td>304</td>\n",
       "    </tr>\n",
       "    <tr>\n",
       "      <th>2015-09-01 01:00:00</th>\n",
       "      <td>100</td>\n",
       "    </tr>\n",
       "    <tr>\n",
       "      <th>2015-09-01 02:00:00</th>\n",
       "      <td>52</td>\n",
       "    </tr>\n",
       "    <tr>\n",
       "      <th>2015-09-01 03:00:00</th>\n",
       "      <td>304</td>\n",
       "    </tr>\n",
       "    <tr>\n",
       "      <th>2015-09-01 04:00:00</th>\n",
       "      <td>248</td>\n",
       "    </tr>\n",
       "  </tbody>\n",
       "</table>\n",
       "</div>"
      ],
      "text/plain": [
       "                            NewCount\n",
       "AreaId StartTime                    \n",
       "229777 2015-09-01 00:00:00       304\n",
       "       2015-09-01 01:00:00       100\n",
       "       2015-09-01 02:00:00        52\n",
       "       2015-09-01 03:00:00       304\n",
       "       2015-09-01 04:00:00       248"
      ]
     },
     "execution_count": 15,
     "metadata": {},
     "output_type": "execute_result"
    }
   ],
   "source": [
    "flow.head()"
   ]
  },
  {
   "cell_type": "code",
   "execution_count": 16,
   "metadata": {
    "collapsed": false
   },
   "outputs": [],
   "source": [
    "all_neighbors_mean_counts = pd.DataFrame()\n",
    "for areaId in areaIds:\n",
    "    neighbors = set(nb.neighbors[areaId])\n",
    "    neighbors_df = flow[flow.index.isin(neighbors, level='AreaId')]\n",
    "    neighbors_mean_count = neighbors_df.mean(level='StartTime').reset_index()\n",
    "    neighbors_mean_count['AreaId'] = areaId\n",
    "    all_neighbors_mean_counts = all_neighbors_mean_counts.append(neighbors_mean_count)"
   ]
  },
  {
   "cell_type": "code",
   "execution_count": 17,
   "metadata": {
    "collapsed": true
   },
   "outputs": [],
   "source": [
    "all_neighbors_mean_counts.rename(columns={'NewCount':'Average'}, inplace=True)"
   ]
  },
  {
   "cell_type": "code",
   "execution_count": 18,
   "metadata": {
    "collapsed": false
   },
   "outputs": [],
   "source": [
    "all_neighbors_mean_counts = all_neighbors_mean_counts.set_index(['AreaId', 'StartTime'])\n"
   ]
  },
  {
   "cell_type": "code",
   "execution_count": 19,
   "metadata": {
    "collapsed": false
   },
   "outputs": [],
   "source": [
    "count_difference = flow.join(all_neighbors_mean_counts)\n",
    "count_difference['Diff'] = count_difference.NewCount - count_difference.Average "
   ]
  },
  {
   "cell_type": "code",
   "execution_count": 20,
   "metadata": {
    "collapsed": false
   },
   "outputs": [
    {
     "data": {
      "text/html": [
       "<div>\n",
       "<table border=\"1\" class=\"dataframe\">\n",
       "  <thead>\n",
       "    <tr style=\"text-align: right;\">\n",
       "      <th></th>\n",
       "      <th></th>\n",
       "      <th>NewCount</th>\n",
       "      <th>Average</th>\n",
       "      <th>Diff</th>\n",
       "    </tr>\n",
       "    <tr>\n",
       "      <th>AreaId</th>\n",
       "      <th>StartTime</th>\n",
       "      <th></th>\n",
       "      <th></th>\n",
       "      <th></th>\n",
       "    </tr>\n",
       "  </thead>\n",
       "  <tbody>\n",
       "    <tr>\n",
       "      <th rowspan=\"5\" valign=\"top\">229777</th>\n",
       "      <th>2015-09-01 00:00:00</th>\n",
       "      <td>304</td>\n",
       "      <td>252.5</td>\n",
       "      <td>51.5</td>\n",
       "    </tr>\n",
       "    <tr>\n",
       "      <th>2015-09-01 01:00:00</th>\n",
       "      <td>100</td>\n",
       "      <td>393.5</td>\n",
       "      <td>-293.5</td>\n",
       "    </tr>\n",
       "    <tr>\n",
       "      <th>2015-09-01 02:00:00</th>\n",
       "      <td>52</td>\n",
       "      <td>44.0</td>\n",
       "      <td>8.0</td>\n",
       "    </tr>\n",
       "    <tr>\n",
       "      <th>2015-09-01 03:00:00</th>\n",
       "      <td>304</td>\n",
       "      <td>165.5</td>\n",
       "      <td>138.5</td>\n",
       "    </tr>\n",
       "    <tr>\n",
       "      <th>2015-09-01 04:00:00</th>\n",
       "      <td>248</td>\n",
       "      <td>346.5</td>\n",
       "      <td>-98.5</td>\n",
       "    </tr>\n",
       "  </tbody>\n",
       "</table>\n",
       "</div>"
      ],
      "text/plain": [
       "                            NewCount  Average   Diff\n",
       "AreaId StartTime                                    \n",
       "229777 2015-09-01 00:00:00       304    252.5   51.5\n",
       "       2015-09-01 01:00:00       100    393.5 -293.5\n",
       "       2015-09-01 02:00:00        52     44.0    8.0\n",
       "       2015-09-01 03:00:00       304    165.5  138.5\n",
       "       2015-09-01 04:00:00       248    346.5  -98.5"
      ]
     },
     "execution_count": 20,
     "metadata": {},
     "output_type": "execute_result"
    }
   ],
   "source": [
    "count_difference.head()"
   ]
  },
  {
   "cell_type": "code",
   "execution_count": 21,
   "metadata": {
    "collapsed": false
   },
   "outputs": [],
   "source": [
    "count_difference.to_csv('NYC_sample_difference.csv')"
   ]
  },
  {
   "cell_type": "markdown",
   "metadata": {
    "collapsed": true
   },
   "source": [
    "# 4. Outlier Detection"
   ]
  },
  {
   "cell_type": "code",
   "execution_count": 25,
   "metadata": {
    "collapsed": false
   },
   "outputs": [],
   "source": [
    "# count_difference = pd.read_csv('NYC_sample_difference.csv')\n",
    "nyc_pivot = count_difference.reset_index().pivot(index='AreaId', columns='StartTime', values='NewCount')\n",
    "nyc_pivot.fillna(value=0, inplace=True)"
   ]
  },
  {
   "cell_type": "code",
   "execution_count": 26,
   "metadata": {
    "collapsed": false
   },
   "outputs": [
    {
     "data": {
      "text/html": [
       "<div>\n",
       "<table border=\"1\" class=\"dataframe\">\n",
       "  <thead>\n",
       "    <tr style=\"text-align: right;\">\n",
       "      <th>StartTime</th>\n",
       "      <th>2015-09-01 00:00:00</th>\n",
       "      <th>2015-09-01 01:00:00</th>\n",
       "      <th>2015-09-01 02:00:00</th>\n",
       "      <th>2015-09-01 03:00:00</th>\n",
       "      <th>2015-09-01 04:00:00</th>\n",
       "      <th>2015-09-01 05:00:00</th>\n",
       "      <th>2015-09-01 06:00:00</th>\n",
       "      <th>2015-09-01 07:00:00</th>\n",
       "      <th>2015-09-01 08:00:00</th>\n",
       "      <th>2015-09-01 09:00:00</th>\n",
       "      <th>...</th>\n",
       "      <th>2015-09-07 14:00:00</th>\n",
       "      <th>2015-09-07 15:00:00</th>\n",
       "      <th>2015-09-07 16:00:00</th>\n",
       "      <th>2015-09-07 17:00:00</th>\n",
       "      <th>2015-09-07 18:00:00</th>\n",
       "      <th>2015-09-07 19:00:00</th>\n",
       "      <th>2015-09-07 20:00:00</th>\n",
       "      <th>2015-09-07 21:00:00</th>\n",
       "      <th>2015-09-07 22:00:00</th>\n",
       "      <th>2015-09-07 23:00:00</th>\n",
       "    </tr>\n",
       "    <tr>\n",
       "      <th>AreaId</th>\n",
       "      <th></th>\n",
       "      <th></th>\n",
       "      <th></th>\n",
       "      <th></th>\n",
       "      <th></th>\n",
       "      <th></th>\n",
       "      <th></th>\n",
       "      <th></th>\n",
       "      <th></th>\n",
       "      <th></th>\n",
       "      <th></th>\n",
       "      <th></th>\n",
       "      <th></th>\n",
       "      <th></th>\n",
       "      <th></th>\n",
       "      <th></th>\n",
       "      <th></th>\n",
       "      <th></th>\n",
       "      <th></th>\n",
       "      <th></th>\n",
       "      <th></th>\n",
       "    </tr>\n",
       "  </thead>\n",
       "  <tbody>\n",
       "    <tr>\n",
       "      <th>229777</th>\n",
       "      <td>304</td>\n",
       "      <td>100</td>\n",
       "      <td>52</td>\n",
       "      <td>304</td>\n",
       "      <td>248</td>\n",
       "      <td>133</td>\n",
       "      <td>261</td>\n",
       "      <td>444</td>\n",
       "      <td>466</td>\n",
       "      <td>393</td>\n",
       "      <td>...</td>\n",
       "      <td>438</td>\n",
       "      <td>19</td>\n",
       "      <td>60</td>\n",
       "      <td>295</td>\n",
       "      <td>397</td>\n",
       "      <td>5</td>\n",
       "      <td>194</td>\n",
       "      <td>241</td>\n",
       "      <td>134</td>\n",
       "      <td>391</td>\n",
       "    </tr>\n",
       "    <tr>\n",
       "      <th>229778</th>\n",
       "      <td>358</td>\n",
       "      <td>457</td>\n",
       "      <td>49</td>\n",
       "      <td>85</td>\n",
       "      <td>258</td>\n",
       "      <td>475</td>\n",
       "      <td>110</td>\n",
       "      <td>454</td>\n",
       "      <td>7</td>\n",
       "      <td>176</td>\n",
       "      <td>...</td>\n",
       "      <td>19</td>\n",
       "      <td>418</td>\n",
       "      <td>230</td>\n",
       "      <td>347</td>\n",
       "      <td>231</td>\n",
       "      <td>70</td>\n",
       "      <td>385</td>\n",
       "      <td>38</td>\n",
       "      <td>474</td>\n",
       "      <td>252</td>\n",
       "    </tr>\n",
       "    <tr>\n",
       "      <th>229779</th>\n",
       "      <td>399</td>\n",
       "      <td>204</td>\n",
       "      <td>274</td>\n",
       "      <td>274</td>\n",
       "      <td>473</td>\n",
       "      <td>215</td>\n",
       "      <td>86</td>\n",
       "      <td>44</td>\n",
       "      <td>258</td>\n",
       "      <td>56</td>\n",
       "      <td>...</td>\n",
       "      <td>408</td>\n",
       "      <td>306</td>\n",
       "      <td>142</td>\n",
       "      <td>243</td>\n",
       "      <td>133</td>\n",
       "      <td>171</td>\n",
       "      <td>402</td>\n",
       "      <td>409</td>\n",
       "      <td>459</td>\n",
       "      <td>183</td>\n",
       "    </tr>\n",
       "    <tr>\n",
       "      <th>229780</th>\n",
       "      <td>401</td>\n",
       "      <td>97</td>\n",
       "      <td>117</td>\n",
       "      <td>286</td>\n",
       "      <td>149</td>\n",
       "      <td>401</td>\n",
       "      <td>377</td>\n",
       "      <td>48</td>\n",
       "      <td>95</td>\n",
       "      <td>73</td>\n",
       "      <td>...</td>\n",
       "      <td>306</td>\n",
       "      <td>478</td>\n",
       "      <td>178</td>\n",
       "      <td>193</td>\n",
       "      <td>197</td>\n",
       "      <td>420</td>\n",
       "      <td>215</td>\n",
       "      <td>171</td>\n",
       "      <td>38</td>\n",
       "      <td>232</td>\n",
       "    </tr>\n",
       "    <tr>\n",
       "      <th>229781</th>\n",
       "      <td>169</td>\n",
       "      <td>217</td>\n",
       "      <td>26</td>\n",
       "      <td>260</td>\n",
       "      <td>499</td>\n",
       "      <td>365</td>\n",
       "      <td>188</td>\n",
       "      <td>126</td>\n",
       "      <td>27</td>\n",
       "      <td>123</td>\n",
       "      <td>...</td>\n",
       "      <td>261</td>\n",
       "      <td>21</td>\n",
       "      <td>156</td>\n",
       "      <td>333</td>\n",
       "      <td>188</td>\n",
       "      <td>35</td>\n",
       "      <td>281</td>\n",
       "      <td>167</td>\n",
       "      <td>168</td>\n",
       "      <td>252</td>\n",
       "    </tr>\n",
       "  </tbody>\n",
       "</table>\n",
       "<p>5 rows × 168 columns</p>\n",
       "</div>"
      ],
      "text/plain": [
       "StartTime  2015-09-01 00:00:00  2015-09-01 01:00:00  2015-09-01 02:00:00  \\\n",
       "AreaId                                                                     \n",
       "229777                     304                  100                   52   \n",
       "229778                     358                  457                   49   \n",
       "229779                     399                  204                  274   \n",
       "229780                     401                   97                  117   \n",
       "229781                     169                  217                   26   \n",
       "\n",
       "StartTime  2015-09-01 03:00:00  2015-09-01 04:00:00  2015-09-01 05:00:00  \\\n",
       "AreaId                                                                     \n",
       "229777                     304                  248                  133   \n",
       "229778                      85                  258                  475   \n",
       "229779                     274                  473                  215   \n",
       "229780                     286                  149                  401   \n",
       "229781                     260                  499                  365   \n",
       "\n",
       "StartTime  2015-09-01 06:00:00  2015-09-01 07:00:00  2015-09-01 08:00:00  \\\n",
       "AreaId                                                                     \n",
       "229777                     261                  444                  466   \n",
       "229778                     110                  454                    7   \n",
       "229779                      86                   44                  258   \n",
       "229780                     377                   48                   95   \n",
       "229781                     188                  126                   27   \n",
       "\n",
       "StartTime  2015-09-01 09:00:00         ...           2015-09-07 14:00:00  \\\n",
       "AreaId                                 ...                                 \n",
       "229777                     393         ...                           438   \n",
       "229778                     176         ...                            19   \n",
       "229779                      56         ...                           408   \n",
       "229780                      73         ...                           306   \n",
       "229781                     123         ...                           261   \n",
       "\n",
       "StartTime  2015-09-07 15:00:00  2015-09-07 16:00:00  2015-09-07 17:00:00  \\\n",
       "AreaId                                                                     \n",
       "229777                      19                   60                  295   \n",
       "229778                     418                  230                  347   \n",
       "229779                     306                  142                  243   \n",
       "229780                     478                  178                  193   \n",
       "229781                      21                  156                  333   \n",
       "\n",
       "StartTime  2015-09-07 18:00:00  2015-09-07 19:00:00  2015-09-07 20:00:00  \\\n",
       "AreaId                                                                     \n",
       "229777                     397                    5                  194   \n",
       "229778                     231                   70                  385   \n",
       "229779                     133                  171                  402   \n",
       "229780                     197                  420                  215   \n",
       "229781                     188                   35                  281   \n",
       "\n",
       "StartTime  2015-09-07 21:00:00  2015-09-07 22:00:00  2015-09-07 23:00:00  \n",
       "AreaId                                                                    \n",
       "229777                     241                  134                  391  \n",
       "229778                      38                  474                  252  \n",
       "229779                     409                  459                  183  \n",
       "229780                     171                   38                  232  \n",
       "229781                     167                  168                  252  \n",
       "\n",
       "[5 rows x 168 columns]"
      ]
     },
     "execution_count": 26,
     "metadata": {},
     "output_type": "execute_result"
    }
   ],
   "source": [
    "nyc_pivot.head()"
   ]
  },
  {
   "cell_type": "code",
   "execution_count": 27,
   "metadata": {
    "collapsed": true
   },
   "outputs": [],
   "source": [
    "from sklearn.cluster import AgglomerativeClustering"
   ]
  },
  {
   "cell_type": "code",
   "execution_count": 28,
   "metadata": {
    "collapsed": true
   },
   "outputs": [],
   "source": [
    "ward = AgglomerativeClustering(n_clusters=2, linkage='ward').fit(nyc_pivot)\n",
    "labels=ward.labels_"
   ]
  },
  {
   "cell_type": "code",
   "execution_count": 29,
   "metadata": {
    "collapsed": false
   },
   "outputs": [
    {
     "name": "stdout",
     "output_type": "stream",
     "text": [
      "Estimated number of clusters: 2\n"
     ]
    }
   ],
   "source": [
    "# Number of clusters in labels\n",
    "n_clusters_ = len(set(labels)) \n",
    "print('Estimated number of clusters: %d' % n_clusters_)"
   ]
  },
  {
   "cell_type": "code",
   "execution_count": 30,
   "metadata": {
    "collapsed": false
   },
   "outputs": [
    {
     "name": "stdout",
     "output_type": "stream",
     "text": [
      "[[   0    5]\n",
      " [   1 1091]]\n"
     ]
    }
   ],
   "source": [
    "import numpy as np\n",
    "unique, counts = np.unique(labels, return_counts=True)\n",
    "print np.asarray((unique, counts)).T"
   ]
  },
  {
   "cell_type": "code",
   "execution_count": 31,
   "metadata": {
    "collapsed": true
   },
   "outputs": [],
   "source": [
    "nyc_pivot['labels'] = labels"
   ]
  },
  {
   "cell_type": "code",
   "execution_count": 32,
   "metadata": {
    "collapsed": false
   },
   "outputs": [
    {
     "data": {
      "text/html": [
       "<div>\n",
       "<table border=\"1\" class=\"dataframe\">\n",
       "  <thead>\n",
       "    <tr style=\"text-align: right;\">\n",
       "      <th>StartTime</th>\n",
       "      <th>2015-09-01 00:00:00</th>\n",
       "      <th>2015-09-01 01:00:00</th>\n",
       "      <th>2015-09-01 02:00:00</th>\n",
       "      <th>2015-09-01 03:00:00</th>\n",
       "      <th>2015-09-01 04:00:00</th>\n",
       "      <th>2015-09-01 05:00:00</th>\n",
       "      <th>2015-09-01 06:00:00</th>\n",
       "      <th>2015-09-01 07:00:00</th>\n",
       "      <th>2015-09-01 08:00:00</th>\n",
       "      <th>2015-09-01 09:00:00</th>\n",
       "      <th>...</th>\n",
       "      <th>2015-09-07 15:00:00</th>\n",
       "      <th>2015-09-07 16:00:00</th>\n",
       "      <th>2015-09-07 17:00:00</th>\n",
       "      <th>2015-09-07 18:00:00</th>\n",
       "      <th>2015-09-07 19:00:00</th>\n",
       "      <th>2015-09-07 20:00:00</th>\n",
       "      <th>2015-09-07 21:00:00</th>\n",
       "      <th>2015-09-07 22:00:00</th>\n",
       "      <th>2015-09-07 23:00:00</th>\n",
       "      <th>labels</th>\n",
       "    </tr>\n",
       "    <tr>\n",
       "      <th>AreaId</th>\n",
       "      <th></th>\n",
       "      <th></th>\n",
       "      <th></th>\n",
       "      <th></th>\n",
       "      <th></th>\n",
       "      <th></th>\n",
       "      <th></th>\n",
       "      <th></th>\n",
       "      <th></th>\n",
       "      <th></th>\n",
       "      <th></th>\n",
       "      <th></th>\n",
       "      <th></th>\n",
       "      <th></th>\n",
       "      <th></th>\n",
       "      <th></th>\n",
       "      <th></th>\n",
       "      <th></th>\n",
       "      <th></th>\n",
       "      <th></th>\n",
       "      <th></th>\n",
       "    </tr>\n",
       "  </thead>\n",
       "  <tbody>\n",
       "    <tr>\n",
       "      <th>229784</th>\n",
       "      <td>3507</td>\n",
       "      <td>2515</td>\n",
       "      <td>4574</td>\n",
       "      <td>3457</td>\n",
       "      <td>3954</td>\n",
       "      <td>1879</td>\n",
       "      <td>4046</td>\n",
       "      <td>2977</td>\n",
       "      <td>1757</td>\n",
       "      <td>3637</td>\n",
       "      <td>...</td>\n",
       "      <td>3470</td>\n",
       "      <td>4768</td>\n",
       "      <td>2095</td>\n",
       "      <td>2410</td>\n",
       "      <td>1490</td>\n",
       "      <td>2246</td>\n",
       "      <td>1322</td>\n",
       "      <td>1956</td>\n",
       "      <td>4925</td>\n",
       "      <td>0</td>\n",
       "    </tr>\n",
       "    <tr>\n",
       "      <th>231460</th>\n",
       "      <td>1897</td>\n",
       "      <td>2001</td>\n",
       "      <td>2370</td>\n",
       "      <td>1665</td>\n",
       "      <td>3569</td>\n",
       "      <td>1047</td>\n",
       "      <td>3131</td>\n",
       "      <td>2414</td>\n",
       "      <td>3546</td>\n",
       "      <td>4826</td>\n",
       "      <td>...</td>\n",
       "      <td>1131</td>\n",
       "      <td>1575</td>\n",
       "      <td>1568</td>\n",
       "      <td>1234</td>\n",
       "      <td>3662</td>\n",
       "      <td>2278</td>\n",
       "      <td>1682</td>\n",
       "      <td>1104</td>\n",
       "      <td>4630</td>\n",
       "      <td>0</td>\n",
       "    </tr>\n",
       "    <tr>\n",
       "      <th>232200</th>\n",
       "      <td>3516</td>\n",
       "      <td>3130</td>\n",
       "      <td>3058</td>\n",
       "      <td>4884</td>\n",
       "      <td>2268</td>\n",
       "      <td>4615</td>\n",
       "      <td>1498</td>\n",
       "      <td>4568</td>\n",
       "      <td>2805</td>\n",
       "      <td>3724</td>\n",
       "      <td>...</td>\n",
       "      <td>1751</td>\n",
       "      <td>3262</td>\n",
       "      <td>3963</td>\n",
       "      <td>1944</td>\n",
       "      <td>3077</td>\n",
       "      <td>3793</td>\n",
       "      <td>1626</td>\n",
       "      <td>3659</td>\n",
       "      <td>1511</td>\n",
       "      <td>0</td>\n",
       "    </tr>\n",
       "    <tr>\n",
       "      <th>233511</th>\n",
       "      <td>0</td>\n",
       "      <td>0</td>\n",
       "      <td>4740</td>\n",
       "      <td>3005</td>\n",
       "      <td>0</td>\n",
       "      <td>3747</td>\n",
       "      <td>4488</td>\n",
       "      <td>1861</td>\n",
       "      <td>3440</td>\n",
       "      <td>2002</td>\n",
       "      <td>...</td>\n",
       "      <td>3045</td>\n",
       "      <td>4164</td>\n",
       "      <td>2726</td>\n",
       "      <td>2589</td>\n",
       "      <td>2616</td>\n",
       "      <td>3131</td>\n",
       "      <td>2872</td>\n",
       "      <td>1628</td>\n",
       "      <td>4134</td>\n",
       "      <td>0</td>\n",
       "    </tr>\n",
       "    <tr>\n",
       "      <th>236330</th>\n",
       "      <td>4950</td>\n",
       "      <td>3001</td>\n",
       "      <td>2094</td>\n",
       "      <td>2803</td>\n",
       "      <td>2983</td>\n",
       "      <td>1560</td>\n",
       "      <td>2879</td>\n",
       "      <td>2708</td>\n",
       "      <td>1485</td>\n",
       "      <td>1343</td>\n",
       "      <td>...</td>\n",
       "      <td>4517</td>\n",
       "      <td>3371</td>\n",
       "      <td>4005</td>\n",
       "      <td>3401</td>\n",
       "      <td>4531</td>\n",
       "      <td>1844</td>\n",
       "      <td>3299</td>\n",
       "      <td>1349</td>\n",
       "      <td>4108</td>\n",
       "      <td>0</td>\n",
       "    </tr>\n",
       "  </tbody>\n",
       "</table>\n",
       "<p>5 rows × 169 columns</p>\n",
       "</div>"
      ],
      "text/plain": [
       "StartTime  2015-09-01 00:00:00  2015-09-01 01:00:00  2015-09-01 02:00:00  \\\n",
       "AreaId                                                                     \n",
       "229784                    3507                 2515                 4574   \n",
       "231460                    1897                 2001                 2370   \n",
       "232200                    3516                 3130                 3058   \n",
       "233511                       0                    0                 4740   \n",
       "236330                    4950                 3001                 2094   \n",
       "\n",
       "StartTime  2015-09-01 03:00:00  2015-09-01 04:00:00  2015-09-01 05:00:00  \\\n",
       "AreaId                                                                     \n",
       "229784                    3457                 3954                 1879   \n",
       "231460                    1665                 3569                 1047   \n",
       "232200                    4884                 2268                 4615   \n",
       "233511                    3005                    0                 3747   \n",
       "236330                    2803                 2983                 1560   \n",
       "\n",
       "StartTime  2015-09-01 06:00:00  2015-09-01 07:00:00  2015-09-01 08:00:00  \\\n",
       "AreaId                                                                     \n",
       "229784                    4046                 2977                 1757   \n",
       "231460                    3131                 2414                 3546   \n",
       "232200                    1498                 4568                 2805   \n",
       "233511                    4488                 1861                 3440   \n",
       "236330                    2879                 2708                 1485   \n",
       "\n",
       "StartTime  2015-09-01 09:00:00   ...    2015-09-07 15:00:00  \\\n",
       "AreaId                           ...                          \n",
       "229784                    3637   ...                   3470   \n",
       "231460                    4826   ...                   1131   \n",
       "232200                    3724   ...                   1751   \n",
       "233511                    2002   ...                   3045   \n",
       "236330                    1343   ...                   4517   \n",
       "\n",
       "StartTime  2015-09-07 16:00:00  2015-09-07 17:00:00  2015-09-07 18:00:00  \\\n",
       "AreaId                                                                     \n",
       "229784                    4768                 2095                 2410   \n",
       "231460                    1575                 1568                 1234   \n",
       "232200                    3262                 3963                 1944   \n",
       "233511                    4164                 2726                 2589   \n",
       "236330                    3371                 4005                 3401   \n",
       "\n",
       "StartTime  2015-09-07 19:00:00  2015-09-07 20:00:00  2015-09-07 21:00:00  \\\n",
       "AreaId                                                                     \n",
       "229784                    1490                 2246                 1322   \n",
       "231460                    3662                 2278                 1682   \n",
       "232200                    3077                 3793                 1626   \n",
       "233511                    2616                 3131                 2872   \n",
       "236330                    4531                 1844                 3299   \n",
       "\n",
       "StartTime  2015-09-07 22:00:00  2015-09-07 23:00:00  labels  \n",
       "AreaId                                                       \n",
       "229784                    1956                 4925       0  \n",
       "231460                    1104                 4630       0  \n",
       "232200                    3659                 1511       0  \n",
       "233511                    1628                 4134       0  \n",
       "236330                    1349                 4108       0  \n",
       "\n",
       "[5 rows x 169 columns]"
      ]
     },
     "execution_count": 32,
     "metadata": {},
     "output_type": "execute_result"
    }
   ],
   "source": [
    "nyc_pivot[nyc_pivot['labels']==0]"
   ]
  },
  {
   "cell_type": "markdown",
   "metadata": {
    "collapsed": true
   },
   "source": [
    "## Recall that the 5 randomly chosen \"high flow\" hexagons:\n",
    "high flow ids are:  set([232200, 229784, 236330, 231460, 233511])\n",
    "## Successfully detected the 5 outliers!"
   ]
  },
  {
   "cell_type": "code",
   "execution_count": null,
   "metadata": {
    "collapsed": true
   },
   "outputs": [],
   "source": []
  }
 ],
 "metadata": {
  "kernelspec": {
   "display_name": "Python 2",
   "language": "python",
   "name": "python2"
  },
  "language_info": {
   "codemirror_mode": {
    "name": "ipython",
    "version": 2
   },
   "file_extension": ".py",
   "mimetype": "text/x-python",
   "name": "python",
   "nbconvert_exporter": "python",
   "pygments_lexer": "ipython2",
   "version": "2.7.11"
  }
 },
 "nbformat": 4,
 "nbformat_minor": 0
}
