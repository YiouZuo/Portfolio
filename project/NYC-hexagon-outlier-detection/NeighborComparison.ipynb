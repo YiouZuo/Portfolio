{
 "cells": [
  {
   "cell_type": "code",
   "execution_count": 1,
   "metadata": {},
   "outputs": [],
   "source": [
    "import os\n",
    "import csv\n",
    "import shapefile\n",
    "import pysal\n",
    "import pandas as pd"
   ]
  },
  {
   "cell_type": "code",
   "execution_count": 2,
   "metadata": {},
   "outputs": [],
   "source": [
    "%matplotlib inline\n",
    "import matplotlib.pyplot as plt"
   ]
  },
  {
   "cell_type": "markdown",
   "metadata": {},
   "source": [
    "## Set and check the data path"
   ]
  },
  {
   "cell_type": "code",
   "execution_count": 3,
   "metadata": {},
   "outputs": [
    {
     "name": "stdout",
     "output_type": "stream",
     "text": [
      "('Input file:', '/home/project/NYC-hexagon-outlier-detection/Data/NYC_sample_geometries.csv', '/home/project/NYC-hexagon-outlier-detection/Data/NYC_sample_flow.csv')\n"
     ]
    }
   ],
   "source": [
    "data_dir = os.path.abspath('Data')\n",
    "geom_file = os.path.join(data_dir, 'NYC_sample_geometries.csv')\n",
    "flow_file = os.path.join(data_dir, 'NYC_sample_flow.csv')\n",
    "\n",
    "if os.path.exists(geom_file):\n",
    "    print('Input file:', geom_file, flow_file)\n",
    "else:\n",
    "    print('Data directory is:', data_dir)\n",
    "    print('Please fix the path!')"
   ]
  },
  {
   "cell_type": "markdown",
   "metadata": {},
   "source": [
    "# 1. Create the shapefile\n",
    "reference: http://geospatialpython.com/2015/08/csv-to-shapefile.html"
   ]
  },
  {
   "cell_type": "code",
   "execution_count": 4,
   "metadata": {},
   "outputs": [],
   "source": [
    "# Create a polygon shapefile writer\n",
    "wrt = shapefile.Writer(shapefile.POLYGON)"
   ]
  },
  {
   "cell_type": "code",
   "execution_count": 5,
   "metadata": {},
   "outputs": [],
   "source": [
    "# Add fields\n",
    "wrt.field('AreaId', 'N', 6, 0)"
   ]
  },
  {
   "cell_type": "code",
   "execution_count": 6,
   "metadata": {},
   "outputs": [],
   "source": [
    "# Open the csv file and set up a reader\n",
    "with open(geom_file) as p:\n",
    "    reader = csv.DictReader(p)\n",
    "    for row in reader:\n",
    "        # Add records for each polygon\n",
    "        wrt.record(row['AreaId'])\n",
    "        # Parse the coordinate string\n",
    "        wkt = row['Geometry'][15:-3]\n",
    "        # Break the coordinate string into x,y coordinates\n",
    "        coords = wkt.split(\",\")\n",
    "        # Set up a list to contain the coordinates for each node\n",
    "        part = []\n",
    "        # Convert the x,y values to floats\n",
    "        for c in coords:\n",
    "            x,y = c.split(' ')\n",
    "            part.append([float(x), float(y)])\n",
    "        # Create a polygon record with the list of coordinates\n",
    "        wrt.poly(parts=[part])"
   ]
  },
  {
   "cell_type": "code",
   "execution_count": 7,
   "metadata": {},
   "outputs": [],
   "source": [
    "# Save the shapefile\n",
    "wrt.save('NYC_sample_hexagons.shp')"
   ]
  },
  {
   "cell_type": "markdown",
   "metadata": {},
   "source": [
    "# 2. Create the neighbor list\n",
    "For each AreaId, detect its neighbors, i.e. the polygons that share a common edge. "
   ]
  },
  {
   "cell_type": "code",
   "execution_count": 8,
   "metadata": {},
   "outputs": [],
   "source": [
    "nb = pysal.rook_from_shapefile('NYC_sample_hexagons.shp', 'AreaId')"
   ]
  },
  {
   "cell_type": "code",
   "execution_count": 9,
   "metadata": {},
   "outputs": [
    {
     "data": {
      "text/plain": [
       "dict"
      ]
     },
     "execution_count": 9,
     "metadata": {},
     "output_type": "execute_result"
    }
   ],
   "source": [
    "type(nb.neighbors)"
   ]
  },
  {
   "cell_type": "code",
   "execution_count": 10,
   "metadata": {},
   "outputs": [],
   "source": [
    "hist = pd.DataFrame(nb.histogram, columns=['bin', 'cnt'])"
   ]
  },
  {
   "cell_type": "code",
   "execution_count": 11,
   "metadata": {},
   "outputs": [
    {
     "data": {
      "text/plain": [
       "<BarContainer object of 5 artists>"
      ]
     },
     "execution_count": 11,
     "metadata": {},
     "output_type": "execute_result"
    },
    {
     "data": {
      "image/png": "[encoded data removed]",
      "text/plain": [
       "<Figure size 432x288 with 1 Axes>"
      ]
     },
     "metadata": {},
     "output_type": "display_data"
    }
   ],
   "source": [
    "plt.bar(hist.bin,hist.cnt)"
   ]
  },
  {
   "cell_type": "markdown",
   "metadata": {},
   "source": [
    "# 3. Final output "
   ]
  },
  {
   "cell_type": "code",
   "execution_count": 12,
   "metadata": {},
   "outputs": [],
   "source": [
    "# Read in nyc_flow.csv and pivot the table\n",
    "flow = pd.read_csv(flow_file)"
   ]
  },
  {
   "cell_type": "code",
   "execution_count": 13,
   "metadata": {},
   "outputs": [],
   "source": [
    "areaIds = list(set(flow.AreaId)) # iterate through a list is faster than through a set"
   ]
  },
  {
   "cell_type": "code",
   "execution_count": 14,
   "metadata": {},
   "outputs": [],
   "source": [
    "flow = flow.set_index(['AreaId', 'StartTime'])"
   ]
  },
  {
   "cell_type": "code",
   "execution_count": 15,
   "metadata": {},
   "outputs": [
    {
     "data": {
      "text/html": [
       "<div>\n",
       "<style scoped>\n",
       "    .dataframe tbody tr th:only-of-type {\n",
       "        vertical-align: middle;\n",
       "    }\n",
       "\n",
       "    .dataframe tbody tr th {\n",
       "        vertical-align: top;\n",
       "    }\n",
       "\n",
       "    .dataframe thead th {\n",
       "        text-align: right;\n",
       "    }\n",
       "</style>\n",
       "<table border=\"1\" class=\"dataframe\">\n",
       "  <thead>\n",
       "    <tr style=\"text-align: right;\">\n",
       "      <th></th>\n",
       "      <th></th>\n",
       "      <th>NewCount</th>\n",
       "    </tr>\n",
       "    <tr>\n",
       "      <th>AreaId</th>\n",
       "      <th>StartTime</th>\n",
       "      <th></th>\n",
       "    </tr>\n",
       "  </thead>\n",
       "  <tbody>\n",
       "    <tr>\n",
       "      <th rowspan=\"5\" valign=\"top\">229777</th>\n",
       "      <th>2015-09-01 00:00:00</th>\n",
       "      <td>304</td>\n",
       "    </tr>\n",
       "    <tr>\n",
       "      <th>2015-09-01 01:00:00</th>\n",
       "      <td>100</td>\n",
       "    </tr>\n",
       "    <tr>\n",
       "      <th>2015-09-01 02:00:00</th>\n",
       "      <td>52</td>\n",
       "    </tr>\n",
       "    <tr>\n",
       "      <th>2015-09-01 03:00:00</th>\n",
       "      <td>304</td>\n",
       "    </tr>\n",
       "    <tr>\n",
       "      <th>2015-09-01 04:00:00</th>\n",
       "      <td>248</td>\n",
       "    </tr>\n",
       "  </tbody>\n",
       "</table>\n",
       "</div>"
      ],
      "text/plain": [
       "                            NewCount\n",
       "AreaId StartTime                    \n",
       "229777 2015-09-01 00:00:00       304\n",
       "       2015-09-01 01:00:00       100\n",
       "       2015-09-01 02:00:00        52\n",
       "       2015-09-01 03:00:00       304\n",
       "       2015-09-01 04:00:00       248"
      ]
     },
     "execution_count": 15,
     "metadata": {},
     "output_type": "execute_result"
    }
   ],
   "source": [
    "flow.head()"
   ]
  },
  {
   "cell_type": "code",
   "execution_count": 16,
   "metadata": {},
   "outputs": [],
   "source": [
    "all_neighbors_mean_counts = pd.DataFrame()\n",
    "for areaId in areaIds:\n",
    "    neighbors = set(nb.neighbors[areaId])\n",
    "    neighbors_df = flow[flow.index.isin(neighbors, level='AreaId')]\n",
    "    neighbors_mean_count = neighbors_df.mean(level='StartTime').reset_index()\n",
    "    neighbors_mean_count['AreaId'] = areaId\n",
    "    all_neighbors_mean_counts = all_neighbors_mean_counts.append(neighbors_mean_count)"
   ]
  },
  {
   "cell_type": "code",
   "execution_count": 17,
   "metadata": {},
   "outputs": [],
   "source": [
    "all_neighbors_mean_counts.rename(columns={'NewCount':'Average'}, inplace=True)"
   ]
  },
  {
   "cell_type": "code",
   "execution_count": 18,
   "metadata": {},
   "outputs": [],
   "source": [
    "all_neighbors_mean_counts = all_neighbors_mean_counts.set_index(['AreaId', 'StartTime'])"
   ]
  },
  {
   "cell_type": "code",
   "execution_count": 19,
   "metadata": {},
   "outputs": [],
   "source": [
    "count_difference = flow.join(all_neighbors_mean_counts)\n",
    "count_difference['Diff'] = count_difference.NewCount - count_difference.Average "
   ]
  },
  {
   "cell_type": "code",
   "execution_count": 20,
   "metadata": {},
   "outputs": [
    {
     "data": {
      "text/html": [
       "<div>\n",
       "<style scoped>\n",
       "    .dataframe tbody tr th:only-of-type {\n",
       "        vertical-align: middle;\n",
       "    }\n",
       "\n",
       "    .dataframe tbody tr th {\n",
       "        vertical-align: top;\n",
       "    }\n",
       "\n",
       "    .dataframe thead th {\n",
       "        text-align: right;\n",
       "    }\n",
       "</style>\n",
       "<table border=\"1\" class=\"dataframe\">\n",
       "  <thead>\n",
       "    <tr style=\"text-align: right;\">\n",
       "      <th></th>\n",
       "      <th></th>\n",
       "      <th>NewCount</th>\n",
       "      <th>Average</th>\n",
       "      <th>Diff</th>\n",
       "    </tr>\n",
       "    <tr>\n",
       "      <th>AreaId</th>\n",
       "      <th>StartTime</th>\n",
       "      <th></th>\n",
       "      <th></th>\n",
       "      <th></th>\n",
       "    </tr>\n",
       "  </thead>\n",
       "  <tbody>\n",
       "    <tr>\n",
       "      <th rowspan=\"5\" valign=\"top\">229777</th>\n",
       "      <th>2015-09-01 00:00:00</th>\n",
       "      <td>304</td>\n",
       "      <td>252.5</td>\n",
       "      <td>51.5</td>\n",
       "    </tr>\n",
       "    <tr>\n",
       "      <th>2015-09-01 01:00:00</th>\n",
       "      <td>100</td>\n",
       "      <td>393.5</td>\n",
       "      <td>-293.5</td>\n",
       "    </tr>\n",
       "    <tr>\n",
       "      <th>2015-09-01 02:00:00</th>\n",
       "      <td>52</td>\n",
       "      <td>44.0</td>\n",
       "      <td>8.0</td>\n",
       "    </tr>\n",
       "    <tr>\n",
       "      <th>2015-09-01 03:00:00</th>\n",
       "      <td>304</td>\n",
       "      <td>165.5</td>\n",
       "      <td>138.5</td>\n",
       "    </tr>\n",
       "    <tr>\n",
       "      <th>2015-09-01 04:00:00</th>\n",
       "      <td>248</td>\n",
       "      <td>346.5</td>\n",
       "      <td>-98.5</td>\n",
       "    </tr>\n",
       "  </tbody>\n",
       "</table>\n",
       "</div>"
      ],
      "text/plain": [
       "                            NewCount  Average   Diff\n",
       "AreaId StartTime                                    \n",
       "229777 2015-09-01 00:00:00       304    252.5   51.5\n",
       "       2015-09-01 01:00:00       100    393.5 -293.5\n",
       "       2015-09-01 02:00:00        52     44.0    8.0\n",
       "       2015-09-01 03:00:00       304    165.5  138.5\n",
       "       2015-09-01 04:00:00       248    346.5  -98.5"
      ]
     },
     "execution_count": 20,
     "metadata": {},
     "output_type": "execute_result"
    }
   ],
   "source": [
    "count_difference.head()"
   ]
  },
  {
   "cell_type": "code",
   "execution_count": 21,
   "metadata": {},
   "outputs": [],
   "source": [
    "count_difference.to_csv('NYC_sample_difference.csv')"
   ]
  },
  {
   "cell_type": "markdown",
   "metadata": {
    "collapsed": true
   },
   "source": [
    "# 4. Outlier Detection"
   ]
  },
  {
   "cell_type": "code",
   "execution_count": 22,
   "metadata": {},
   "outputs": [],
   "source": [
    "# count_difference = pd.read_csv('NYC_sample_difference.csv')\n",
    "nyc_pivot = count_difference.reset_index().pivot(index='AreaId', columns='StartTime', values='NewCount')\n",
    "nyc_pivot.fillna(value=0, inplace=True)"
   ]
  },
  {
   "cell_type": "code",
   "execution_count": 23,
   "metadata": {},
   "outputs": [
    {
     "data": {
      "text/html": [
       "<div>\n",
       "<style scoped>\n",
       "    .dataframe tbody tr th:only-of-type {\n",
       "        vertical-align: middle;\n",
       "    }\n",
       "\n",
       "    .dataframe tbody tr th {\n",
       "        vertical-align: top;\n",
       "    }\n",
       "\n",
       "    .dataframe thead th {\n",
       "        text-align: right;\n",
       "    }\n",
       "</style>\n",
       "<table border=\"1\" class=\"dataframe\">\n",
       "  <thead>\n",
       "    <tr style=\"text-align: right;\">\n",
       "      <th>StartTime</th>\n",
       "      <th>2015-09-01 00:00:00</th>\n",
       "      <th>2015-09-01 01:00:00</th>\n",
       "      <th>2015-09-01 02:00:00</th>\n",
       "      <th>2015-09-01 03:00:00</th>\n",
       "      <th>2015-09-01 04:00:00</th>\n",
       "      <th>2015-09-01 05:00:00</th>\n",
       "      <th>2015-09-01 06:00:00</th>\n",
       "      <th>2015-09-01 07:00:00</th>\n",
       "      <th>2015-09-01 08:00:00</th>\n",
       "      <th>2015-09-01 09:00:00</th>\n",
       "      <th>...</th>\n",
       "      <th>2015-09-07 14:00:00</th>\n",
       "      <th>2015-09-07 15:00:00</th>\n",
       "      <th>2015-09-07 16:00:00</th>\n",
       "      <th>2015-09-07 17:00:00</th>\n",
       "      <th>2015-09-07 18:00:00</th>\n",
       "      <th>2015-09-07 19:00:00</th>\n",
       "      <th>2015-09-07 20:00:00</th>\n",
       "      <th>2015-09-07 21:00:00</th>\n",
       "      <th>2015-09-07 22:00:00</th>\n",
       "      <th>2015-09-07 23:00:00</th>\n",
       "    </tr>\n",
       "    <tr>\n",
       "      <th>AreaId</th>\n",
       "      <th></th>\n",
       "      <th></th>\n",
       "      <th></th>\n",
       "      <th></th>\n",
       "      <th></th>\n",
       "      <th></th>\n",
       "      <th></th>\n",
       "      <th></th>\n",
       "      <th></th>\n",
       "      <th></th>\n",
       "      <th></th>\n",
       "      <th></th>\n",
       "      <th></th>\n",
       "      <th></th>\n",
       "      <th></th>\n",
       "      <th></th>\n",
       "      <th></th>\n",
       "      <th></th>\n",
       "      <th></th>\n",
       "      <th></th>\n",
       "      <th></th>\n",
       "    </tr>\n",
       "  </thead>\n",
       "  <tbody>\n",
       "    <tr>\n",
       "      <th>229777</th>\n",
       "      <td>304.0</td>\n",
       "      <td>100.0</td>\n",
       "      <td>52.0</td>\n",
       "      <td>304.0</td>\n",
       "      <td>248.0</td>\n",
       "      <td>133.0</td>\n",
       "      <td>261.0</td>\n",
       "      <td>444.0</td>\n",
       "      <td>466.0</td>\n",
       "      <td>393.0</td>\n",
       "      <td>...</td>\n",
       "      <td>438.0</td>\n",
       "      <td>19.0</td>\n",
       "      <td>60.0</td>\n",
       "      <td>295.0</td>\n",
       "      <td>397.0</td>\n",
       "      <td>5.0</td>\n",
       "      <td>194.0</td>\n",
       "      <td>241.0</td>\n",
       "      <td>134.0</td>\n",
       "      <td>391.0</td>\n",
       "    </tr>\n",
       "    <tr>\n",
       "      <th>229778</th>\n",
       "      <td>358.0</td>\n",
       "      <td>457.0</td>\n",
       "      <td>49.0</td>\n",
       "      <td>85.0</td>\n",
       "      <td>258.0</td>\n",
       "      <td>475.0</td>\n",
       "      <td>110.0</td>\n",
       "      <td>454.0</td>\n",
       "      <td>7.0</td>\n",
       "      <td>176.0</td>\n",
       "      <td>...</td>\n",
       "      <td>19.0</td>\n",
       "      <td>418.0</td>\n",
       "      <td>230.0</td>\n",
       "      <td>347.0</td>\n",
       "      <td>231.0</td>\n",
       "      <td>70.0</td>\n",
       "      <td>385.0</td>\n",
       "      <td>38.0</td>\n",
       "      <td>474.0</td>\n",
       "      <td>252.0</td>\n",
       "    </tr>\n",
       "    <tr>\n",
       "      <th>229779</th>\n",
       "      <td>399.0</td>\n",
       "      <td>204.0</td>\n",
       "      <td>274.0</td>\n",
       "      <td>274.0</td>\n",
       "      <td>473.0</td>\n",
       "      <td>215.0</td>\n",
       "      <td>86.0</td>\n",
       "      <td>44.0</td>\n",
       "      <td>258.0</td>\n",
       "      <td>56.0</td>\n",
       "      <td>...</td>\n",
       "      <td>408.0</td>\n",
       "      <td>306.0</td>\n",
       "      <td>142.0</td>\n",
       "      <td>243.0</td>\n",
       "      <td>133.0</td>\n",
       "      <td>171.0</td>\n",
       "      <td>402.0</td>\n",
       "      <td>409.0</td>\n",
       "      <td>459.0</td>\n",
       "      <td>183.0</td>\n",
       "    </tr>\n",
       "    <tr>\n",
       "      <th>229780</th>\n",
       "      <td>401.0</td>\n",
       "      <td>97.0</td>\n",
       "      <td>117.0</td>\n",
       "      <td>286.0</td>\n",
       "      <td>149.0</td>\n",
       "      <td>401.0</td>\n",
       "      <td>377.0</td>\n",
       "      <td>48.0</td>\n",
       "      <td>95.0</td>\n",
       "      <td>73.0</td>\n",
       "      <td>...</td>\n",
       "      <td>306.0</td>\n",
       "      <td>478.0</td>\n",
       "      <td>178.0</td>\n",
       "      <td>193.0</td>\n",
       "      <td>197.0</td>\n",
       "      <td>420.0</td>\n",
       "      <td>215.0</td>\n",
       "      <td>171.0</td>\n",
       "      <td>38.0</td>\n",
       "      <td>232.0</td>\n",
       "    </tr>\n",
       "    <tr>\n",
       "      <th>229781</th>\n",
       "      <td>169.0</td>\n",
       "      <td>217.0</td>\n",
       "      <td>26.0</td>\n",
       "      <td>260.0</td>\n",
       "      <td>499.0</td>\n",
       "      <td>365.0</td>\n",
       "      <td>188.0</td>\n",
       "      <td>126.0</td>\n",
       "      <td>27.0</td>\n",
       "      <td>123.0</td>\n",
       "      <td>...</td>\n",
       "      <td>261.0</td>\n",
       "      <td>21.0</td>\n",
       "      <td>156.0</td>\n",
       "      <td>333.0</td>\n",
       "      <td>188.0</td>\n",
       "      <td>35.0</td>\n",
       "      <td>281.0</td>\n",
       "      <td>167.0</td>\n",
       "      <td>168.0</td>\n",
       "      <td>252.0</td>\n",
       "    </tr>\n",
       "  </tbody>\n",
       "</table>\n",
       "<p>5 rows × 168 columns</p>\n",
       "</div>"
      ],
      "text/plain": [
       "StartTime  2015-09-01 00:00:00  2015-09-01 01:00:00  2015-09-01 02:00:00  \\\n",
       "AreaId                                                                     \n",
       "229777                   304.0                100.0                 52.0   \n",
       "229778                   358.0                457.0                 49.0   \n",
       "229779                   399.0                204.0                274.0   \n",
       "229780                   401.0                 97.0                117.0   \n",
       "229781                   169.0                217.0                 26.0   \n",
       "\n",
       "StartTime  2015-09-01 03:00:00  2015-09-01 04:00:00  2015-09-01 05:00:00  \\\n",
       "AreaId                                                                     \n",
       "229777                   304.0                248.0                133.0   \n",
       "229778                    85.0                258.0                475.0   \n",
       "229779                   274.0                473.0                215.0   \n",
       "229780                   286.0                149.0                401.0   \n",
       "229781                   260.0                499.0                365.0   \n",
       "\n",
       "StartTime  2015-09-01 06:00:00  2015-09-01 07:00:00  2015-09-01 08:00:00  \\\n",
       "AreaId                                                                     \n",
       "229777                   261.0                444.0                466.0   \n",
       "229778                   110.0                454.0                  7.0   \n",
       "229779                    86.0                 44.0                258.0   \n",
       "229780                   377.0                 48.0                 95.0   \n",
       "229781                   188.0                126.0                 27.0   \n",
       "\n",
       "StartTime  2015-09-01 09:00:00         ...           2015-09-07 14:00:00  \\\n",
       "AreaId                                 ...                                 \n",
       "229777                   393.0         ...                         438.0   \n",
       "229778                   176.0         ...                          19.0   \n",
       "229779                    56.0         ...                         408.0   \n",
       "229780                    73.0         ...                         306.0   \n",
       "229781                   123.0         ...                         261.0   \n",
       "\n",
       "StartTime  2015-09-07 15:00:00  2015-09-07 16:00:00  2015-09-07 17:00:00  \\\n",
       "AreaId                                                                     \n",
       "229777                    19.0                 60.0                295.0   \n",
       "229778                   418.0                230.0                347.0   \n",
       "229779                   306.0                142.0                243.0   \n",
       "229780                   478.0                178.0                193.0   \n",
       "229781                    21.0                156.0                333.0   \n",
       "\n",
       "StartTime  2015-09-07 18:00:00  2015-09-07 19:00:00  2015-09-07 20:00:00  \\\n",
       "AreaId                                                                     \n",
       "229777                   397.0                  5.0                194.0   \n",
       "229778                   231.0                 70.0                385.0   \n",
       "229779                   133.0                171.0                402.0   \n",
       "229780                   197.0                420.0                215.0   \n",
       "229781                   188.0                 35.0                281.0   \n",
       "\n",
       "StartTime  2015-09-07 21:00:00  2015-09-07 22:00:00  2015-09-07 23:00:00  \n",
       "AreaId                                                                    \n",
       "229777                   241.0                134.0                391.0  \n",
       "229778                    38.0                474.0                252.0  \n",
       "229779                   409.0                459.0                183.0  \n",
       "229780                   171.0                 38.0                232.0  \n",
       "229781                   167.0                168.0                252.0  \n",
       "\n",
       "[5 rows x 168 columns]"
      ]
     },
     "execution_count": 23,
     "metadata": {},
     "output_type": "execute_result"
    }
   ],
   "source": [
    "nyc_pivot.head()"
   ]
  },
  {
   "cell_type": "code",
   "execution_count": 24,
   "metadata": {},
   "outputs": [],
   "source": [
    "from sklearn.cluster import AgglomerativeClustering"
   ]
  },
  {
   "cell_type": "code",
   "execution_count": 25,
   "metadata": {},
   "outputs": [],
   "source": [
    "ward = AgglomerativeClustering(n_clusters=2, linkage='ward').fit(nyc_pivot)\n",
    "labels=ward.labels_"
   ]
  },
  {
   "cell_type": "code",
   "execution_count": 26,
   "metadata": {},
   "outputs": [
    {
     "name": "stdout",
     "output_type": "stream",
     "text": [
      "Estimated number of clusters: 2\n"
     ]
    }
   ],
   "source": [
    "# Number of clusters in labels\n",
    "n_clusters_ = len(set(labels)) \n",
    "print('Estimated number of clusters: %d' % n_clusters_)"
   ]
  },
  {
   "cell_type": "code",
   "execution_count": 27,
   "metadata": {},
   "outputs": [
    {
     "name": "stdout",
     "output_type": "stream",
     "text": [
      "[[   0    5]\n",
      " [   1 1091]]\n"
     ]
    }
   ],
   "source": [
    "import numpy as np\n",
    "unique, counts = np.unique(labels, return_counts=True)\n",
    "print np.asarray((unique, counts)).T"
   ]
  },
  {
   "cell_type": "code",
   "execution_count": 28,
   "metadata": {},
   "outputs": [],
   "source": [
    "nyc_pivot['labels'] = labels"
   ]
  },
  {
   "cell_type": "code",
   "execution_count": 29,
   "metadata": {},
   "outputs": [
    {
     "data": {
      "text/html": [
       "<div>\n",
       "<style scoped>\n",
       "    .dataframe tbody tr th:only-of-type {\n",
       "        vertical-align: middle;\n",
       "    }\n",
       "\n",
       "    .dataframe tbody tr th {\n",
       "        vertical-align: top;\n",
       "    }\n",
       "\n",
       "    .dataframe thead th {\n",
       "        text-align: right;\n",
       "    }\n",
       "</style>\n",
       "<table border=\"1\" class=\"dataframe\">\n",
       "  <thead>\n",
       "    <tr style=\"text-align: right;\">\n",
       "      <th>StartTime</th>\n",
       "      <th>2015-09-01 00:00:00</th>\n",
       "      <th>2015-09-01 01:00:00</th>\n",
       "      <th>2015-09-01 02:00:00</th>\n",
       "      <th>2015-09-01 03:00:00</th>\n",
       "      <th>2015-09-01 04:00:00</th>\n",
       "      <th>2015-09-01 05:00:00</th>\n",
       "      <th>2015-09-01 06:00:00</th>\n",
       "      <th>2015-09-01 07:00:00</th>\n",
       "      <th>2015-09-01 08:00:00</th>\n",
       "      <th>2015-09-01 09:00:00</th>\n",
       "      <th>...</th>\n",
       "      <th>2015-09-07 15:00:00</th>\n",
       "      <th>2015-09-07 16:00:00</th>\n",
       "      <th>2015-09-07 17:00:00</th>\n",
       "      <th>2015-09-07 18:00:00</th>\n",
       "      <th>2015-09-07 19:00:00</th>\n",
       "      <th>2015-09-07 20:00:00</th>\n",
       "      <th>2015-09-07 21:00:00</th>\n",
       "      <th>2015-09-07 22:00:00</th>\n",
       "      <th>2015-09-07 23:00:00</th>\n",
       "      <th>labels</th>\n",
       "    </tr>\n",
       "    <tr>\n",
       "      <th>AreaId</th>\n",
       "      <th></th>\n",
       "      <th></th>\n",
       "      <th></th>\n",
       "      <th></th>\n",
       "      <th></th>\n",
       "      <th></th>\n",
       "      <th></th>\n",
       "      <th></th>\n",
       "      <th></th>\n",
       "      <th></th>\n",
       "      <th></th>\n",
       "      <th></th>\n",
       "      <th></th>\n",
       "      <th></th>\n",
       "      <th></th>\n",
       "      <th></th>\n",
       "      <th></th>\n",
       "      <th></th>\n",
       "      <th></th>\n",
       "      <th></th>\n",
       "      <th></th>\n",
       "    </tr>\n",
       "  </thead>\n",
       "  <tbody>\n",
       "    <tr>\n",
       "      <th>229784</th>\n",
       "      <td>3507.0</td>\n",
       "      <td>2515.0</td>\n",
       "      <td>4574.0</td>\n",
       "      <td>3457.0</td>\n",
       "      <td>3954.0</td>\n",
       "      <td>1879.0</td>\n",
       "      <td>4046.0</td>\n",
       "      <td>2977.0</td>\n",
       "      <td>1757.0</td>\n",
       "      <td>3637.0</td>\n",
       "      <td>...</td>\n",
       "      <td>3470.0</td>\n",
       "      <td>4768.0</td>\n",
       "      <td>2095.0</td>\n",
       "      <td>2410.0</td>\n",
       "      <td>1490.0</td>\n",
       "      <td>2246.0</td>\n",
       "      <td>1322.0</td>\n",
       "      <td>1956.0</td>\n",
       "      <td>4925.0</td>\n",
       "      <td>0</td>\n",
       "    </tr>\n",
       "    <tr>\n",
       "      <th>231460</th>\n",
       "      <td>1897.0</td>\n",
       "      <td>2001.0</td>\n",
       "      <td>2370.0</td>\n",
       "      <td>1665.0</td>\n",
       "      <td>3569.0</td>\n",
       "      <td>1047.0</td>\n",
       "      <td>3131.0</td>\n",
       "      <td>2414.0</td>\n",
       "      <td>3546.0</td>\n",
       "      <td>4826.0</td>\n",
       "      <td>...</td>\n",
       "      <td>1131.0</td>\n",
       "      <td>1575.0</td>\n",
       "      <td>1568.0</td>\n",
       "      <td>1234.0</td>\n",
       "      <td>3662.0</td>\n",
       "      <td>2278.0</td>\n",
       "      <td>1682.0</td>\n",
       "      <td>1104.0</td>\n",
       "      <td>4630.0</td>\n",
       "      <td>0</td>\n",
       "    </tr>\n",
       "    <tr>\n",
       "      <th>232200</th>\n",
       "      <td>3516.0</td>\n",
       "      <td>3130.0</td>\n",
       "      <td>3058.0</td>\n",
       "      <td>4884.0</td>\n",
       "      <td>2268.0</td>\n",
       "      <td>4615.0</td>\n",
       "      <td>1498.0</td>\n",
       "      <td>4568.0</td>\n",
       "      <td>2805.0</td>\n",
       "      <td>3724.0</td>\n",
       "      <td>...</td>\n",
       "      <td>1751.0</td>\n",
       "      <td>3262.0</td>\n",
       "      <td>3963.0</td>\n",
       "      <td>1944.0</td>\n",
       "      <td>3077.0</td>\n",
       "      <td>3793.0</td>\n",
       "      <td>1626.0</td>\n",
       "      <td>3659.0</td>\n",
       "      <td>1511.0</td>\n",
       "      <td>0</td>\n",
       "    </tr>\n",
       "    <tr>\n",
       "      <th>233511</th>\n",
       "      <td>0.0</td>\n",
       "      <td>0.0</td>\n",
       "      <td>4740.0</td>\n",
       "      <td>3005.0</td>\n",
       "      <td>0.0</td>\n",
       "      <td>3747.0</td>\n",
       "      <td>4488.0</td>\n",
       "      <td>1861.0</td>\n",
       "      <td>3440.0</td>\n",
       "      <td>2002.0</td>\n",
       "      <td>...</td>\n",
       "      <td>3045.0</td>\n",
       "      <td>4164.0</td>\n",
       "      <td>2726.0</td>\n",
       "      <td>2589.0</td>\n",
       "      <td>2616.0</td>\n",
       "      <td>3131.0</td>\n",
       "      <td>2872.0</td>\n",
       "      <td>1628.0</td>\n",
       "      <td>4134.0</td>\n",
       "      <td>0</td>\n",
       "    </tr>\n",
       "    <tr>\n",
       "      <th>236330</th>\n",
       "      <td>4950.0</td>\n",
       "      <td>3001.0</td>\n",
       "      <td>2094.0</td>\n",
       "      <td>2803.0</td>\n",
       "      <td>2983.0</td>\n",
       "      <td>1560.0</td>\n",
       "      <td>2879.0</td>\n",
       "      <td>2708.0</td>\n",
       "      <td>1485.0</td>\n",
       "      <td>1343.0</td>\n",
       "      <td>...</td>\n",
       "      <td>4517.0</td>\n",
       "      <td>3371.0</td>\n",
       "      <td>4005.0</td>\n",
       "      <td>3401.0</td>\n",
       "      <td>4531.0</td>\n",
       "      <td>1844.0</td>\n",
       "      <td>3299.0</td>\n",
       "      <td>1349.0</td>\n",
       "      <td>4108.0</td>\n",
       "      <td>0</td>\n",
       "    </tr>\n",
       "  </tbody>\n",
       "</table>\n",
       "<p>5 rows × 169 columns</p>\n",
       "</div>"
      ],
      "text/plain": [
       "StartTime  2015-09-01 00:00:00  2015-09-01 01:00:00  2015-09-01 02:00:00  \\\n",
       "AreaId                                                                     \n",
       "229784                  3507.0               2515.0               4574.0   \n",
       "231460                  1897.0               2001.0               2370.0   \n",
       "232200                  3516.0               3130.0               3058.0   \n",
       "233511                     0.0                  0.0               4740.0   \n",
       "236330                  4950.0               3001.0               2094.0   \n",
       "\n",
       "StartTime  2015-09-01 03:00:00  2015-09-01 04:00:00  2015-09-01 05:00:00  \\\n",
       "AreaId                                                                     \n",
       "229784                  3457.0               3954.0               1879.0   \n",
       "231460                  1665.0               3569.0               1047.0   \n",
       "232200                  4884.0               2268.0               4615.0   \n",
       "233511                  3005.0                  0.0               3747.0   \n",
       "236330                  2803.0               2983.0               1560.0   \n",
       "\n",
       "StartTime  2015-09-01 06:00:00  2015-09-01 07:00:00  2015-09-01 08:00:00  \\\n",
       "AreaId                                                                     \n",
       "229784                  4046.0               2977.0               1757.0   \n",
       "231460                  3131.0               2414.0               3546.0   \n",
       "232200                  1498.0               4568.0               2805.0   \n",
       "233511                  4488.0               1861.0               3440.0   \n",
       "236330                  2879.0               2708.0               1485.0   \n",
       "\n",
       "StartTime  2015-09-01 09:00:00   ...    2015-09-07 15:00:00  \\\n",
       "AreaId                           ...                          \n",
       "229784                  3637.0   ...                 3470.0   \n",
       "231460                  4826.0   ...                 1131.0   \n",
       "232200                  3724.0   ...                 1751.0   \n",
       "233511                  2002.0   ...                 3045.0   \n",
       "236330                  1343.0   ...                 4517.0   \n",
       "\n",
       "StartTime  2015-09-07 16:00:00  2015-09-07 17:00:00  2015-09-07 18:00:00  \\\n",
       "AreaId                                                                     \n",
       "229784                  4768.0               2095.0               2410.0   \n",
       "231460                  1575.0               1568.0               1234.0   \n",
       "232200                  3262.0               3963.0               1944.0   \n",
       "233511                  4164.0               2726.0               2589.0   \n",
       "236330                  3371.0               4005.0               3401.0   \n",
       "\n",
       "StartTime  2015-09-07 19:00:00  2015-09-07 20:00:00  2015-09-07 21:00:00  \\\n",
       "AreaId                                                                     \n",
       "229784                  1490.0               2246.0               1322.0   \n",
       "231460                  3662.0               2278.0               1682.0   \n",
       "232200                  3077.0               3793.0               1626.0   \n",
       "233511                  2616.0               3131.0               2872.0   \n",
       "236330                  4531.0               1844.0               3299.0   \n",
       "\n",
       "StartTime  2015-09-07 22:00:00  2015-09-07 23:00:00  labels  \n",
       "AreaId                                                       \n",
       "229784                  1956.0               4925.0       0  \n",
       "231460                  1104.0               4630.0       0  \n",
       "232200                  3659.0               1511.0       0  \n",
       "233511                  1628.0               4134.0       0  \n",
       "236330                  1349.0               4108.0       0  \n",
       "\n",
       "[5 rows x 169 columns]"
      ]
     },
     "execution_count": 29,
     "metadata": {},
     "output_type": "execute_result"
    }
   ],
   "source": [
    "nyc_pivot[nyc_pivot['labels']==0]"
   ]
  },
  {
   "cell_type": "markdown",
   "metadata": {
    "collapsed": true
   },
   "source": [
    "## Recall that the 5 randomly chosen \"high flow\" hexagons:\n",
    "high flow ids are:  set([232200, 229784, 236330, 231460, 233511])\n",
    "## Successfully detected the 5 outliers!"
   ]
  },
  {
   "cell_type": "markdown",
   "metadata": {
    "collapsed": true
   },
   "source": [
    "# A little extra: Some Time Series Analysis and Visualization\n",
    "This is a simple demonstration of Time Series analysis and visualization in python. Since the data is randomly generated, the result may not make much sense."
   ]
  },
  {
   "cell_type": "code",
   "execution_count": 30,
   "metadata": {},
   "outputs": [],
   "source": [
    "from matplotlib.pylab import rcParams\n",
    "rcParams['figure.figsize'] = 15, 6"
   ]
  },
  {
   "cell_type": "code",
   "execution_count": 31,
   "metadata": {},
   "outputs": [],
   "source": [
    "count_difference = pd.read_csv('NYC_sample_difference.csv')"
   ]
  },
  {
   "cell_type": "code",
   "execution_count": 32,
   "metadata": {},
   "outputs": [],
   "source": [
    "TS = count_difference[count_difference['AreaId']==232200]"
   ]
  },
  {
   "cell_type": "code",
   "execution_count": 33,
   "metadata": {},
   "outputs": [
    {
     "data": {
      "text/plain": [
       "AreaId         int64\n",
       "StartTime     object\n",
       "NewCount       int64\n",
       "Average      float64\n",
       "Diff         float64\n",
       "dtype: object"
      ]
     },
     "execution_count": 33,
     "metadata": {},
     "output_type": "execute_result"
    }
   ],
   "source": [
    "TS.dtypes"
   ]
  },
  {
   "cell_type": "code",
   "execution_count": 34,
   "metadata": {},
   "outputs": [
    {
     "name": "stderr",
     "output_type": "stream",
     "text": [
      "/usr/local/lib/python2.7/site-packages/pandas/core/indexing.py:543: SettingWithCopyWarning: \n",
      "A value is trying to be set on a copy of a slice from a DataFrame.\n",
      "Try using .loc[row_indexer,col_indexer] = value instead\n",
      "\n",
      "See the caveats in the documentation: http://pandas.pydata.org/pandas-docs/stable/indexing.html#indexing-view-versus-copy\n",
      "  self.obj[item] = s\n"
     ]
    }
   ],
   "source": [
    "dt_time = pd.to_datetime(TS.loc[:,'StartTime'])\n",
    "TS.loc[:,'StartTime'] = dt_time"
   ]
  },
  {
   "cell_type": "code",
   "execution_count": 35,
   "metadata": {},
   "outputs": [],
   "source": [
    "TS = TS.set_index(['StartTime'])"
   ]
  },
  {
   "cell_type": "code",
   "execution_count": 36,
   "metadata": {},
   "outputs": [
    {
     "data": {
      "text/html": [
       "<div>\n",
       "<style scoped>\n",
       "    .dataframe tbody tr th:only-of-type {\n",
       "        vertical-align: middle;\n",
       "    }\n",
       "\n",
       "    .dataframe tbody tr th {\n",
       "        vertical-align: top;\n",
       "    }\n",
       "\n",
       "    .dataframe thead th {\n",
       "        text-align: right;\n",
       "    }\n",
       "</style>\n",
       "<table border=\"1\" class=\"dataframe\">\n",
       "  <thead>\n",
       "    <tr style=\"text-align: right;\">\n",
       "      <th></th>\n",
       "      <th>AreaId</th>\n",
       "      <th>NewCount</th>\n",
       "      <th>Average</th>\n",
       "      <th>Diff</th>\n",
       "    </tr>\n",
       "    <tr>\n",
       "      <th>StartTime</th>\n",
       "      <th></th>\n",
       "      <th></th>\n",
       "      <th></th>\n",
       "      <th></th>\n",
       "    </tr>\n",
       "  </thead>\n",
       "  <tbody>\n",
       "    <tr>\n",
       "      <th>2015-09-01 00:00:00</th>\n",
       "      <td>232200</td>\n",
       "      <td>3516</td>\n",
       "      <td>161.500000</td>\n",
       "      <td>3354.500000</td>\n",
       "    </tr>\n",
       "    <tr>\n",
       "      <th>2015-09-01 01:00:00</th>\n",
       "      <td>232200</td>\n",
       "      <td>3130</td>\n",
       "      <td>187.833333</td>\n",
       "      <td>2942.166667</td>\n",
       "    </tr>\n",
       "    <tr>\n",
       "      <th>2015-09-01 02:00:00</th>\n",
       "      <td>232200</td>\n",
       "      <td>3058</td>\n",
       "      <td>232.000000</td>\n",
       "      <td>2826.000000</td>\n",
       "    </tr>\n",
       "    <tr>\n",
       "      <th>2015-09-01 03:00:00</th>\n",
       "      <td>232200</td>\n",
       "      <td>4884</td>\n",
       "      <td>191.000000</td>\n",
       "      <td>4693.000000</td>\n",
       "    </tr>\n",
       "    <tr>\n",
       "      <th>2015-09-01 04:00:00</th>\n",
       "      <td>232200</td>\n",
       "      <td>2268</td>\n",
       "      <td>234.166667</td>\n",
       "      <td>2033.833333</td>\n",
       "    </tr>\n",
       "  </tbody>\n",
       "</table>\n",
       "</div>"
      ],
      "text/plain": [
       "                     AreaId  NewCount     Average         Diff\n",
       "StartTime                                                     \n",
       "2015-09-01 00:00:00  232200      3516  161.500000  3354.500000\n",
       "2015-09-01 01:00:00  232200      3130  187.833333  2942.166667\n",
       "2015-09-01 02:00:00  232200      3058  232.000000  2826.000000\n",
       "2015-09-01 03:00:00  232200      4884  191.000000  4693.000000\n",
       "2015-09-01 04:00:00  232200      2268  234.166667  2033.833333"
      ]
     },
     "execution_count": 36,
     "metadata": {},
     "output_type": "execute_result"
    }
   ],
   "source": [
    "TS.head()"
   ]
  },
  {
   "cell_type": "code",
   "execution_count": 37,
   "metadata": {},
   "outputs": [
    {
     "data": {
      "text/plain": [
       "[<matplotlib.lines.Line2D at 0x7f688c061c10>]"
      ]
     },
     "execution_count": 37,
     "metadata": {},
     "output_type": "execute_result"
    },
    {
     "data": {
      "image/png": "[encoded data removed]",
      "text/plain": [
       "<Figure size 1080x432 with 2 Axes>"
      ]
     },
     "metadata": {},
     "output_type": "display_data"
    }
   ],
   "source": [
    "plt.subplot(211)\n",
    "plt.plot(TS.NewCount, label='Count')\n",
    "plt.subplot(212)\n",
    "plt.plot(TS.Average, label='Average Count of Neighbors')"
   ]
  },
  {
   "cell_type": "code",
   "execution_count": 38,
   "metadata": {},
   "outputs": [],
   "source": [
    "# Perform Dickey-Fuller test \n",
    "# Null hypothesis is that the TS is non-stationary. Random data should be stationary. We expect to reject the null hypothesis.\n",
    "from statsmodels.tsa.stattools import adfuller "
   ]
  },
  {
   "cell_type": "code",
   "execution_count": 39,
   "metadata": {},
   "outputs": [
    {
     "name": "stdout",
     "output_type": "stream",
     "text": [
      "Results of Dickey-Fullyer Test:\n",
      "Test Statistics               -1.234931e+01\n",
      "P-Value                        5.874248e-23\n",
      "Number of Lags Used            0.000000e+00\n",
      "Number of Observations Used    1.670000e+02\n",
      "Critical Value (5%)           -2.879008e+00\n",
      "Critical Value (1%)           -3.470126e+00\n",
      "Critical Value (10%)          -2.576083e+00\n",
      "dtype: float64\n"
     ]
    }
   ],
   "source": [
    "print 'Results of Dickey-Fullyer Test:'\n",
    "dftest = adfuller(TS.NewCount, autolag='AIC')\n",
    "dfoutput = pd.Series(dftest[0:4], index=['Test Statistics', 'P-Value', 'Number of Lags Used', 'Number of Observations Used'])\n",
    "for key, value in dftest[4].items():\n",
    "    dfoutput['Critical Value (%s)'%key] = value\n",
    "\n",
    "print dfoutput"
   ]
  },
  {
   "cell_type": "code",
   "execution_count": null,
   "metadata": {},
   "outputs": [],
   "source": []
  }
 ],
 "metadata": {
  "kernelspec": {
   "display_name": "Python 2",
   "language": "python",
   "name": "python2"
  },
  "language_info": {
   "codemirror_mode": {
    "name": "ipython",
    "version": 2
   },
   "file_extension": ".py",
   "mimetype": "text/x-python",
   "name": "python",
   "nbconvert_exporter": "python",
   "pygments_lexer": "ipython2",
   "version": "2.7.14"
  }
 },
 "nbformat": 4,
 "nbformat_minor": 1
}
